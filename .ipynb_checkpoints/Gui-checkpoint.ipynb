{
 "cells": [
  {
   "cell_type": "code",
   "execution_count": null,
   "id": "e7bef0b7",
   "metadata": {},
   "outputs": [],
   "source": [
    "import sys\n",
    "from PyQt5 import QtWidgets, uic\n",
    "\n",
    "class Gui():\n",
    "    def __init__(self):\n",
    "        self.main_win = QtWidgets.QMainWindow()\n",
    "        self.ui = uic.loadUi('main.ui',self.main_win)\n",
    "        self.ui.predict.clicked.connect(self.clicked)\n",
    "    def show(self):\n",
    "        self.main_win.show()\n",
    "        \n",
    "    def clicked(self):\n",
    "        result = linear_regression.predict([[int(self.ui.GRE_Score.toPlainText()),int(self.ui.TOEFL_Score.toPlainText()),int(self.ui.rate.currentText()),float(self.ui.SOP.currentText()),float(self.ui.LOR.currentText()),float(self.ui.CGPA.toPlainText()),int(self.ui.research.currentText())]])\n",
    "        self.ui.view.setText(\"Chance of Admit Predict\"+str(result)[0:-1])\n",
    "app = QtWidgets.QApplication(sys.argv)\n",
    "f1 = Gui()\n",
    "f1.show()\n",
    "app.exec()"
   ]
  }
 ],
 "metadata": {
  "kernelspec": {
   "display_name": "Python 3 (ipykernel)",
   "language": "python",
   "name": "python3"
  },
  "language_info": {
   "codemirror_mode": {
    "name": "ipython",
    "version": 3
   },
   "file_extension": ".py",
   "mimetype": "text/x-python",
   "name": "python",
   "nbconvert_exporter": "python",
   "pygments_lexer": "ipython3",
   "version": "3.10.7"
  }
 },
 "nbformat": 4,
 "nbformat_minor": 5
}
